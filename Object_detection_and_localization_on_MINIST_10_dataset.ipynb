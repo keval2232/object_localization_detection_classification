{
 "cells": [
  {
   "cell_type": "markdown",
   "id": "33383622",
   "metadata": {},
   "source": [
    "# Image Classification and Object Localization\n",
    "\n",
    "- classify the main subject in an image\n",
    "- localize it by drawing bounding boxes around it.\n",
    "\n",
    " [MNIST](http://yann.lecun.com/exdb/mnist/) dataset to synthesize a custom dataset for the task:\n",
    "- Place each \"digit\" image on a black canvas of width 75 x 75 at random locations.\n",
    "- Calculate the corresponding bounding boxes for those \"digits\".\n",
    "\n",
    "The bounding box prediction can be modelled as a \"regression\" task, which means that the model will predict a numeric value (as opposed to a category)."
   ]
  },
  {
   "cell_type": "markdown",
   "id": "79cc3ea8",
   "metadata": {},
   "source": [
    "# imports "
   ]
  },
  {
   "cell_type": "code",
   "execution_count": 3,
   "id": "0f464d67",
   "metadata": {},
   "outputs": [],
   "source": [
    "import os, re, time, json\n",
    "import PIL.Image, PIL.ImageFont, PIL.ImageDraw\n",
    "import numpy as np\n",
    "import tensorflow as tf\n",
    "from matplotlib import pyplot as plt\n",
    "import tensorflow_datasets as tfds"
   ]
  },
  {
   "cell_type": "markdown",
   "id": "4930e3b7",
   "metadata": {},
   "source": [
    "# Visualization Utilities\n",
    "\n",
    "These functions are used to draw bounding boxes around the digits."
   ]
  },
  {
   "cell_type": "code",
   "execution_count": 4,
   "id": "0e361e4a",
   "metadata": {},
   "outputs": [],
   "source": [
    "#@title Plot Utilities for Bounding Boxes [RUN ME]\n",
    "\n",
    "im_width = 75\n",
    "im_height = 75\n",
    "use_normalized_coordinates = True\n",
    "\n",
    "def draw_bounding_boxes_on_image_array(image,\n",
    "                                       boxes,\n",
    "                                       color=[],\n",
    "                                       thickness=1,\n",
    "                                       display_str_list=()):\n",
    "  \"\"\"Draws bounding boxes on image (numpy array).\n",
    "  Args:\n",
    "    image: a numpy array object.\n",
    "    boxes: a 2 dimensional numpy array of [N, 4]: (ymin, xmin, ymax, xmax).\n",
    "           The coordinates are in normalized format between [0, 1].\n",
    "    color: color to draw bounding box. Default is red.\n",
    "    thickness: line thickness. Default value is 4.\n",
    "    display_str_list_list: a list of strings for each bounding box.\n",
    "  Raises:\n",
    "    ValueError: if boxes is not a [N, 4] array\n",
    "  \"\"\"\n",
    "  image_pil = PIL.Image.fromarray(image)\n",
    "  rgbimg = PIL.Image.new(\"RGBA\", image_pil.size)\n",
    "  rgbimg.paste(image_pil)\n",
    "  draw_bounding_boxes_on_image(rgbimg, boxes, color, thickness,\n",
    "                               display_str_list)\n",
    "  return np.array(rgbimg)\n",
    "  \n",
    "\n",
    "def draw_bounding_boxes_on_image(image,\n",
    "                                 boxes,\n",
    "                                 color=[],\n",
    "                                 thickness=1,\n",
    "                                 display_str_list=()):\n",
    "  \"\"\"Draws bounding boxes on image.\n",
    "  Args:\n",
    "    image: a PIL.Image object.\n",
    "    boxes: a 2 dimensional numpy array of [N, 4]: (ymin, xmin, ymax, xmax).\n",
    "           The coordinates are in normalized format between [0, 1].\n",
    "    color: color to draw bounding box. Default is red.\n",
    "    thickness: line thickness. Default value is 4.\n",
    "    display_str_list: a list of strings for each bounding box.\n",
    "                           \n",
    "  Raises:\n",
    "    ValueError: if boxes is not a [N, 4] array\n",
    "  \"\"\"\n",
    "  boxes_shape = boxes.shape\n",
    "  if not boxes_shape:\n",
    "    return\n",
    "  if len(boxes_shape) != 2 or boxes_shape[1] != 4:\n",
    "    raise ValueError('Input must be of size [N, 4]')\n",
    "  for i in range(boxes_shape[0]):\n",
    "    draw_bounding_box_on_image(image, boxes[i, 1], boxes[i, 0], boxes[i, 3],\n",
    "                               boxes[i, 2], color[i], thickness, display_str_list[i])\n",
    "        \n",
    "def draw_bounding_box_on_image(image,\n",
    "                               ymin,\n",
    "                               xmin,\n",
    "                               ymax,\n",
    "                               xmax,\n",
    "                               color='red',\n",
    "                               thickness=1,\n",
    "                               display_str=None,\n",
    "                               use_normalized_coordinates=True):\n",
    "  \"\"\"Adds a bounding box to an image.\n",
    "  Bounding box coordinates can be specified in either absolute (pixel) or\n",
    "  normalized coordinates by setting the use_normalized_coordinates argument.\n",
    "  Args:\n",
    "    image: a PIL.Image object.\n",
    "    ymin: ymin of bounding box.\n",
    "    xmin: xmin of bounding box.\n",
    "    ymax: ymax of bounding box.\n",
    "    xmax: xmax of bounding box.\n",
    "    color: color to draw bounding box. Default is red.\n",
    "    thickness: line thickness. Default value is 4.\n",
    "    display_str_list: string to display in box\n",
    "    use_normalized_coordinates: If True (default), treat coordinates\n",
    "      ymin, xmin, ymax, xmax as relative to the image.  Otherwise treat\n",
    "      coordinates as absolute.\n",
    "  \"\"\"\n",
    "  draw = PIL.ImageDraw.Draw(image)\n",
    "  im_width, im_height = image.size\n",
    "  if use_normalized_coordinates:\n",
    "    (left, right, top, bottom) = (xmin * im_width, xmax * im_width,\n",
    "                                  ymin * im_height, ymax * im_height)\n",
    "  else:\n",
    "    (left, right, top, bottom) = (xmin, xmax, ymin, ymax)\n",
    "  draw.line([(left, top), (left, bottom), (right, bottom),\n",
    "             (right, top), (left, top)], width=thickness, fill=color)\n",
    "  \n"
   ]
  },
  {
   "cell_type": "markdown",
   "id": "96875c80",
   "metadata": {},
   "source": [
    "These utilities are used to visualize the data and predictions."
   ]
  },
  {
   "cell_type": "code",
   "execution_count": 5,
   "id": "e2a73446",
   "metadata": {},
   "outputs": [],
   "source": [
    "#@title Visualization Utilities [RUN ME]\n",
    "\"\"\"\n",
    "This cell contains helper functions used for visualization\n",
    "and downloads only. \n",
    "\n",
    "You can skip reading it, as there is very\n",
    "little Keras or Tensorflow related code here.\n",
    "\"\"\"\n",
    "\n",
    "# Matplotlib config\n",
    "plt.rc('image', cmap='gray')\n",
    "plt.rc('grid', linewidth=0)\n",
    "plt.rc('xtick', top=False, bottom=False, labelsize='large')\n",
    "plt.rc('ytick', left=False, right=False, labelsize='large')\n",
    "plt.rc('axes', facecolor='F8F8F8', titlesize=\"large\", edgecolor='white')\n",
    "plt.rc('text', color='a8151a')\n",
    "plt.rc('figure', facecolor='F0F0F0')# Matplotlib fonts\n",
    "MATPLOTLIB_FONT_DIR = os.path.join(os.path.dirname(plt.__file__), \"mpl-data/fonts/ttf\")\n",
    "\n",
    "# pull a batch from the datasets. This code is not very nice, it gets much better in eager mode (TODO)\n",
    "def dataset_to_numpy_util(training_dataset, validation_dataset, N):\n",
    "  \n",
    "  # get one batch from each: 10000 validation digits, N training digits\n",
    "  batch_train_ds = training_dataset.unbatch().batch(N)\n",
    "  \n",
    "  # eager execution: loop through datasets normally\n",
    "  if tf.executing_eagerly():\n",
    "    for validation_digits, (validation_labels, validation_bboxes) in validation_dataset:\n",
    "      validation_digits = validation_digits.numpy()\n",
    "      validation_labels = validation_labels.numpy()\n",
    "      validation_bboxes = validation_bboxes.numpy()\n",
    "      break\n",
    "    for training_digits, (training_labels, training_bboxes) in batch_train_ds:\n",
    "      training_digits = training_digits.numpy()\n",
    "      training_labels = training_labels.numpy()\n",
    "      training_bboxes = training_bboxes.numpy()\n",
    "      break\n",
    "  \n",
    "  # these were one-hot encoded in the dataset\n",
    "  validation_labels = np.argmax(validation_labels, axis=1)\n",
    "  training_labels = np.argmax(training_labels, axis=1)\n",
    "  \n",
    "  return (training_digits, training_labels, training_bboxes,\n",
    "          validation_digits, validation_labels, validation_bboxes)\n",
    "\n",
    "# create digits from local fonts for testing\n",
    "def create_digits_from_local_fonts(n):\n",
    "  font_labels = []\n",
    "  img = PIL.Image.new('LA', (75*n, 75), color = (0,255)) # format 'LA': black in channel 0, alpha in channel 1\n",
    "  font1 = PIL.ImageFont.truetype(os.path.join(MATPLOTLIB_FONT_DIR, 'DejaVuSansMono-Oblique.ttf'), 25)\n",
    "  font2 = PIL.ImageFont.truetype(os.path.join(MATPLOTLIB_FONT_DIR, 'STIXGeneral.ttf'), 25)\n",
    "  d = PIL.ImageDraw.Draw(img)\n",
    "  for i in range(n):\n",
    "    font_labels.append(i%10)\n",
    "    d.text((7+i*75,0 if i<10 else -4), str(i%10), fill=(255,255), font=font1 if i<10 else font2)\n",
    "  font_digits = np.array(img.getdata(), np.float32)[:,0] / 255.0 # black in channel 0, alpha in channel 1 (discarded)\n",
    "  font_digits = np.reshape(np.stack(np.split(np.reshape(font_digits, [75, 75*n]), n, axis=1), axis=0), [n, 75*75])\n",
    "  return font_digits, font_labels\n",
    "\n",
    "\n",
    "# utility to display a row of digits with their predictions\n",
    "def display_digits_with_boxes(digits, predictions, labels, pred_bboxes, bboxes, iou, title):\n",
    "\n",
    "  n = 10\n",
    "\n",
    "  indexes = np.random.choice(len(predictions), size=n)\n",
    "  n_digits = digits[indexes]\n",
    "  n_predictions = predictions[indexes]\n",
    "  n_labels = labels[indexes]\n",
    "\n",
    "  n_iou = []\n",
    "  if len(iou) > 0:\n",
    "    n_iou = iou[indexes]\n",
    "\n",
    "  if (len(pred_bboxes) > 0):\n",
    "    n_pred_bboxes = pred_bboxes[indexes,:]\n",
    "\n",
    "  if (len(bboxes) > 0):\n",
    "    n_bboxes = bboxes[indexes,:]\n",
    "\n",
    "\n",
    "  n_digits = n_digits * 255.0\n",
    "  n_digits = n_digits.reshape(n, 75, 75)\n",
    "  fig = plt.figure(figsize=(20, 4))\n",
    "  plt.title(title)\n",
    "  plt.yticks([])\n",
    "  plt.xticks([])\n",
    "  \n",
    "  for i in range(10):\n",
    "    ax = fig.add_subplot(1, 10, i+1)\n",
    "    bboxes_to_plot = []\n",
    "    if (len(pred_bboxes) > i):\n",
    "      bboxes_to_plot.append(n_pred_bboxes[i])\n",
    "    \n",
    "    if (len(bboxes) > i):\n",
    "      bboxes_to_plot.append(n_bboxes[i])\n",
    "\n",
    "    img_to_draw = draw_bounding_boxes_on_image_array(image=n_digits[i], boxes=np.asarray(bboxes_to_plot), color=['red', 'green'], display_str_list=[\"true\", \"pred\"])\n",
    "    plt.xlabel(n_predictions[i])\n",
    "    plt.xticks([])\n",
    "    plt.yticks([])\n",
    "    \n",
    "    if n_predictions[i] != n_labels[i]:\n",
    "      ax.xaxis.label.set_color('red')\n",
    "\n",
    "    \n",
    "    \n",
    "    plt.imshow(img_to_draw)\n",
    "\n",
    "    if len(iou) > i :\n",
    "      color = \"black\"\n",
    "      if (n_iou[i][0] < iou_threshold):\n",
    "        color = \"red\"\n",
    "      ax.text(0.2, -0.3, \"iou: %s\" %(n_iou[i][0]), color=color, transform=ax.transAxes)\n",
    "\n",
    "\n",
    "# utility to display training and validation curves\n",
    "def plot_metrics(metric_name, title, ylim=5):\n",
    "  plt.title(title)\n",
    "  plt.ylim(0,ylim)\n",
    "  plt.plot(history.history[metric_name],color='blue',label=metric_name)\n",
    "  plt.plot(history.history['val_' + metric_name],color='green',label='val_' + metric_name)"
   ]
  },
  {
   "cell_type": "markdown",
   "id": "13023061",
   "metadata": {},
   "source": [
    "### Parameters\n",
    "\n",
    "The global batch size is the batch size per replica (64 in this case) times the number of replicas in the distribution strategy."
   ]
  },
  {
   "cell_type": "code",
   "execution_count": 7,
   "id": "ef5a595a",
   "metadata": {},
   "outputs": [
    {
     "name": "stdout",
     "output_type": "stream",
     "text": [
      "Running on CPU\n",
      "Number of accelerators:  1\n"
     ]
    }
   ],
   "source": [
    "# Detect hardware\n",
    "try:\n",
    "  tpu = tf.distribute.cluster_resolver.TPUClusterResolver() # TPU detection\n",
    "except ValueError:\n",
    "  tpu = None\n",
    "  gpus = tf.config.experimental.list_logical_devices(\"GPU\")\n",
    "    \n",
    "# Select appropriate distribution strategy\n",
    "if tpu:\n",
    "  tf.config.experimental_connect_to_cluster(tpu)\n",
    "  tf.tpu.experimental.initialize_tpu_system(tpu)\n",
    "  strategy = tf.distribute.experimental.TPUStrategy(tpu) # Going back and forth between TPU and host is expensive. Better to run 128 batches on the TPU before reporting back.\n",
    "  print('Running on TPU ', tpu.cluster_spec().as_dict()['worker'])  \n",
    "elif len(gpus) > 1:\n",
    "  strategy = tf.distribute.MirroredStrategy([gpu.name for gpu in gpus])\n",
    "  print('Running on multiple GPUs ', [gpu.name for gpu in gpus])\n",
    "elif len(gpus) == 1:\n",
    "  strategy = tf.distribute.get_strategy() # default strategy that works on CPU and single GPU\n",
    "  print('Running on single GPU ', gpus[0].name)\n",
    "else:\n",
    "  strategy = tf.distribute.get_strategy() # default strategy that works on CPU and single GPU\n",
    "  print('Running on CPU')\n",
    "print(\"Number of accelerators: \", strategy.num_replicas_in_sync)"
   ]
  },
  {
   "cell_type": "code",
   "execution_count": 8,
   "id": "abcf6060",
   "metadata": {},
   "outputs": [],
   "source": [
    "BATCH_SIZE = 64 * strategy.num_replicas_in_sync # Gobal batch size.\n",
    "# The global batch size will be automatically sharded across all\n",
    "# replicas by the tf.data.Dataset API. A single TPU has 8 cores.\n",
    "# The best practice is to scale the batch size by the number of\n",
    "# replicas (cores). The learning rate should be increased as well.\n"
   ]
  },
  {
   "cell_type": "markdown",
   "id": "dae90009",
   "metadata": {},
   "source": [
    "## Loading and Preprocessing the Dataset\n",
    "\n",
    "Define some helper functions that will pre-process your data:\n",
    "- `read_image_tfds`: randomly overlays the \"digit\" image on top of a larger canvas.\n",
    "- `get_training_dataset`: loads data and splits it to get the training set.\n",
    "- `get_validation_dataset`: loads and splits the data to get the validation set."
   ]
  },
  {
   "cell_type": "code",
   "execution_count": 9,
   "id": "7a06604d",
   "metadata": {},
   "outputs": [
    {
     "name": "stdout",
     "output_type": "stream",
     "text": [
      "\u001b[1mDownloading and preparing dataset Unknown size (download: Unknown size, generated: Unknown size, total: Unknown size) to C:\\Users\\LENOVO\\tensorflow_datasets\\mnist\\3.0.1...\u001b[0m\n"
     ]
    },
    {
     "data": {
      "application/vnd.jupyter.widget-view+json": {
       "model_id": "f3d9efd8bc90477d8ac14f61a88d393c",
       "version_major": 2,
       "version_minor": 0
      },
      "text/plain": [
       "Dl Completed...: 0 url [00:00, ? url/s]"
      ]
     },
     "metadata": {},
     "output_type": "display_data"
    },
    {
     "data": {
      "application/vnd.jupyter.widget-view+json": {
       "model_id": "27f89b5f0fa04d618e1bf8d6a53bcbfa",
       "version_major": 2,
       "version_minor": 0
      },
      "text/plain": [
       "Dl Size...: 0 MiB [00:00, ? MiB/s]"
      ]
     },
     "metadata": {},
     "output_type": "display_data"
    },
    {
     "data": {
      "application/vnd.jupyter.widget-view+json": {
       "model_id": "76cd234c2b79438db7df94bd0ea817a8",
       "version_major": 2,
       "version_minor": 0
      },
      "text/plain": [
       "Extraction completed...: 0 file [00:00, ? file/s]"
      ]
     },
     "metadata": {},
     "output_type": "display_data"
    },
    {
     "data": {
      "application/vnd.jupyter.widget-view+json": {
       "model_id": "",
       "version_major": 2,
       "version_minor": 0
      },
      "text/plain": [
       "Generating splits...:   0%|          | 0/2 [00:00<?, ? splits/s]"
      ]
     },
     "metadata": {},
     "output_type": "display_data"
    },
    {
     "data": {
      "application/vnd.jupyter.widget-view+json": {
       "model_id": "",
       "version_major": 2,
       "version_minor": 0
      },
      "text/plain": [
       "Generating train examples...: 0 examples [00:00, ? examples/s]"
      ]
     },
     "metadata": {},
     "output_type": "display_data"
    },
    {
     "data": {
      "application/vnd.jupyter.widget-view+json": {
       "model_id": "",
       "version_major": 2,
       "version_minor": 0
      },
      "text/plain": [
       "Shuffling mnist-train.tfrecord...:   0%|          | 0/60000 [00:00<?, ? examples/s]"
      ]
     },
     "metadata": {},
     "output_type": "display_data"
    },
    {
     "data": {
      "application/vnd.jupyter.widget-view+json": {
       "model_id": "",
       "version_major": 2,
       "version_minor": 0
      },
      "text/plain": [
       "Generating test examples...: 0 examples [00:00, ? examples/s]"
      ]
     },
     "metadata": {},
     "output_type": "display_data"
    },
    {
     "data": {
      "application/vnd.jupyter.widget-view+json": {
       "model_id": "",
       "version_major": 2,
       "version_minor": 0
      },
      "text/plain": [
       "Shuffling mnist-test.tfrecord...:   0%|          | 0/10000 [00:00<?, ? examples/s]"
      ]
     },
     "metadata": {},
     "output_type": "display_data"
    },
    {
     "name": "stdout",
     "output_type": "stream",
     "text": [
      "\u001b[1mDataset mnist downloaded and prepared to C:\\Users\\LENOVO\\tensorflow_datasets\\mnist\\3.0.1. Subsequent calls will reuse this data.\u001b[0m\n"
     ]
    }
   ],
   "source": [
    "\n",
    "'''\n",
    "Transforms each image in dataset by pasting it on a 75x75 canvas at random locations.\n",
    "'''\n",
    "def read_image_tfds(image, label):\n",
    "    xmin = tf.random.uniform((), 0 , 48, dtype=tf.int32)\n",
    "    ymin = tf.random.uniform((), 0 , 48, dtype=tf.int32)\n",
    "    image = tf.reshape(image, (28,28,1,))\n",
    "    image = tf.image.pad_to_bounding_box(image, ymin, xmin, 75, 75)\n",
    "    image = tf.cast(image, tf.float32)/255.0\n",
    "    xmin = tf.cast(xmin, tf.float32)\n",
    "    ymin = tf.cast(ymin, tf.float32)\n",
    "   \n",
    "    xmax = (xmin + 28) / 75\n",
    "    ymax = (ymin + 28) / 75\n",
    "    xmin = xmin / 75\n",
    "    ymin = ymin / 75\n",
    "    return image, (tf.one_hot(label, 10), [xmin, ymin, xmax, ymax])\n",
    "  \n",
    "'''\n",
    "Loads and maps the training split of the dataset using the map function. Note that we try to load the gcs version since TPU can only work with datasets on Google Cloud Storage.\n",
    "'''\n",
    "def get_training_dataset():\n",
    "      \n",
    "      with  strategy.scope():\n",
    "        dataset = tfds.load(\"mnist\", split=\"train\", as_supervised=True, try_gcs=True)\n",
    "        dataset = dataset.map(read_image_tfds, num_parallel_calls=16)\n",
    "        dataset = dataset.shuffle(5000, reshuffle_each_iteration=True)\n",
    "        dataset = dataset.repeat() # Mandatory for Keras for now\n",
    "        dataset = dataset.batch(BATCH_SIZE, drop_remainder=True) # drop_remainder is important on TPU, batch size must be fixed\n",
    "        dataset = dataset.prefetch(-1)  # fetch next batches while training on the current one (-1: autotune prefetch buffer size)\n",
    "      return dataset\n",
    "\n",
    "'''\n",
    "Loads and maps the validation split of the dataset using the map function. Note that we try to load the gcs version since TPU can only work with datasets on Google Cloud Storage.\n",
    "'''  \n",
    "def get_validation_dataset():\n",
    "    dataset = tfds.load(\"mnist\", split=\"test\", as_supervised=True, try_gcs=True)\n",
    "    dataset = dataset.map(read_image_tfds, num_parallel_calls=16)\n",
    "\n",
    "    #dataset = dataset.cache() # this small dataset can be entirely cached in RAM\n",
    "    dataset = dataset.batch(10000, drop_remainder=True) # 10000 items in eval dataset, all in one batch\n",
    "    dataset = dataset.repeat() # Mandatory for Keras for now\n",
    "    return dataset\n",
    "\n",
    "# instantiate the datasets\n",
    "with strategy.scope():\n",
    "  training_dataset = get_training_dataset()\n",
    "  validation_dataset = get_validation_dataset()"
   ]
  },
  {
   "cell_type": "markdown",
   "id": "60af875e",
   "metadata": {},
   "source": [
    "### Visualize Data"
   ]
  },
  {
   "cell_type": "code",
   "execution_count": 10,
   "id": "abeef67a",
   "metadata": {},
   "outputs": [
    {
     "data": {
      "image/png": "[encoded data removed]",
      "text/plain": [
       "<Figure size 1440x288 with 11 Axes>"
      ]
     },
     "metadata": {},
     "output_type": "display_data"
    },
    {
     "data": {
      "image/png": "[encoded data removed]",
      "text/plain": [
       "<Figure size 1440x288 with 11 Axes>"
      ]
     },
     "metadata": {},
     "output_type": "display_data"
    }
   ],
   "source": [
    "(training_digits, training_labels, training_bboxes,\n",
    " validation_digits, validation_labels, validation_bboxes) = dataset_to_numpy_util(training_dataset, validation_dataset, 10)\n",
    "\n",
    "display_digits_with_boxes(training_digits, training_labels, training_labels, np.array([]), training_bboxes, np.array([]), \"training digits and their labels\")\n",
    "display_digits_with_boxes(validation_digits, validation_labels, validation_labels, np.array([]), validation_bboxes, np.array([]), \"validation digits and their labels\")\n"
   ]
  },
  {
   "cell_type": "markdown",
   "id": "6e817aeb",
   "metadata": {},
   "source": [
    "## Define the Network\n",
    "\n",
    "Here, you'll define your custom CNN. \n",
    "- `feature_extractor`: these convolutional layers extract the features of the image.\n",
    "- `classifier`:  This define the output layer that predicts among 10 categories (digits 0 through 9)\n",
    "- `bounding_box_regression`: This defines the output layer that predicts 4 numeric values, which define the coordinates of the bounding box (xmin, ymin, xmax, ymax)\n",
    "- `final_model`: This combines the layers for feature extraction, classification and bounding box prediction.  \n",
    "  - Notice that this is another example of a branching model, because the model splits to produce two kinds of output (a category and set of numbers).  \n",
    "  - Since you've learned to use the Functional API earlier in the specialization (course 1), you have the flexibility to define this kind of branching model!\n",
    "- `define_and_compile_model`: choose the optimizer and metrics, then compile the model."
   ]
  },
  {
   "cell_type": "code",
   "execution_count": 11,
   "id": "5b01a3e3",
   "metadata": {},
   "outputs": [
    {
     "name": "stdout",
     "output_type": "stream",
     "text": [
      "Model: \"model\"\n",
      "__________________________________________________________________________________________________\n",
      "Layer (type)                    Output Shape         Param #     Connected to                     \n",
      "==================================================================================================\n",
      "input_1 (InputLayer)            [(None, 75, 75, 1)]  0                                            \n",
      "__________________________________________________________________________________________________\n",
      "conv2d (Conv2D)                 (None, 73, 73, 16)   160         input_1[0][0]                    \n",
      "__________________________________________________________________________________________________\n",
      "average_pooling2d (AveragePooli (None, 36, 36, 16)   0           conv2d[0][0]                     \n",
      "__________________________________________________________________________________________________\n",
      "conv2d_1 (Conv2D)               (None, 34, 34, 32)   4640        average_pooling2d[0][0]          \n",
      "__________________________________________________________________________________________________\n",
      "average_pooling2d_1 (AveragePoo (None, 17, 17, 32)   0           conv2d_1[0][0]                   \n",
      "__________________________________________________________________________________________________\n",
      "conv2d_2 (Conv2D)               (None, 15, 15, 64)   18496       average_pooling2d_1[0][0]        \n",
      "__________________________________________________________________________________________________\n",
      "average_pooling2d_2 (AveragePoo (None, 7, 7, 64)     0           conv2d_2[0][0]                   \n",
      "__________________________________________________________________________________________________\n",
      "flatten (Flatten)               (None, 3136)         0           average_pooling2d_2[0][0]        \n",
      "__________________________________________________________________________________________________\n",
      "dense (Dense)                   (None, 128)          401536      flatten[0][0]                    \n",
      "__________________________________________________________________________________________________\n",
      "classification (Dense)          (None, 10)           1290        dense[0][0]                      \n",
      "__________________________________________________________________________________________________\n",
      "bounding_box (Dense)            (None, 4)            516         dense[0][0]                      \n",
      "==================================================================================================\n",
      "Total params: 426,638\n",
      "Trainable params: 426,638\n",
      "Non-trainable params: 0\n",
      "__________________________________________________________________________________________________\n"
     ]
    }
   ],
   "source": [
    "'''\n",
    "Feature extractor is the CNN that is made up of convolution and pooling layers.\n",
    "'''\n",
    "def feature_extractor(inputs):\n",
    "    x = tf.keras.layers.Conv2D(16, activation='relu', kernel_size=3, input_shape=(75, 75, 1))(inputs)\n",
    "    x = tf.keras.layers.AveragePooling2D((2, 2))(x)\n",
    "\n",
    "    x = tf.keras.layers.Conv2D(32,kernel_size=3,activation='relu')(x)\n",
    "    x = tf.keras.layers.AveragePooling2D((2, 2))(x)\n",
    "\n",
    "    x = tf.keras.layers.Conv2D(64,kernel_size=3,activation='relu')(x)\n",
    "    x = tf.keras.layers.AveragePooling2D((2, 2))(x)\n",
    "\n",
    "    return x\n",
    "\n",
    "'''\n",
    "dense_layers adds a flatten and dense layer.\n",
    "This will follow the feature extraction layers\n",
    "'''\n",
    "def dense_layers(inputs):\n",
    "  x = tf.keras.layers.Flatten()(inputs)\n",
    "  x = tf.keras.layers.Dense(128, activation='relu')(x)\n",
    "  return x\n",
    "\n",
    "\n",
    "'''\n",
    "Classifier defines the classification output.\n",
    "This has a set of fully connected layers and a softmax layer.\n",
    "'''\n",
    "def classifier(inputs):\n",
    "\n",
    "  classification_output = tf.keras.layers.Dense(10, activation='softmax', name = 'classification')(inputs)\n",
    "  return classification_output\n",
    "\n",
    "\n",
    "'''\n",
    "This function defines the regression output for bounding box prediction. \n",
    "Note that we have four outputs corresponding to (xmin, ymin, xmax, ymax)\n",
    "'''\n",
    "def bounding_box_regression(inputs):\n",
    "    bounding_box_regression_output = tf.keras.layers.Dense(units = '4', name = 'bounding_box')(inputs)\n",
    "    return bounding_box_regression_output\n",
    "\n",
    "\n",
    "def final_model(inputs):\n",
    "    feature_cnn = feature_extractor(inputs)\n",
    "    dense_output = dense_layers(feature_cnn)\n",
    "\n",
    "    '''\n",
    "    The model branches here.  \n",
    "    The dense layer's output gets fed into two branches:\n",
    "    classification_output and bounding_box_output\n",
    "    '''\n",
    "    classification_output = classifier(dense_output)\n",
    "    bounding_box_output = bounding_box_regression(dense_output)\n",
    "\n",
    "    model = tf.keras.Model(inputs = inputs, outputs = [classification_output, bounding_box_output])\n",
    "\n",
    "    return model\n",
    "  \n",
    "\n",
    "def define_and_compile_model(inputs):\n",
    "  model = final_model(inputs)\n",
    "  \n",
    "  model.compile(optimizer='adam', \n",
    "              loss = {'classification' : 'categorical_crossentropy',\n",
    "                      'bounding_box' : 'mse'\n",
    "                     },\n",
    "              metrics = {'classification' : 'accuracy',\n",
    "                         'bounding_box' : 'mse'\n",
    "                        })\n",
    "  return model\n",
    "\n",
    "    \n",
    "with strategy.scope():\n",
    "  inputs = tf.keras.layers.Input(shape=(75, 75, 1,))\n",
    "  model = define_and_compile_model(inputs)\n",
    "\n",
    "# print model layers\n",
    "model.summary()"
   ]
  },
  {
   "cell_type": "markdown",
   "id": "9c407489",
   "metadata": {},
   "source": [
    "Train the model.  \n",
    "- You can choose the number of epochs depending on the level of performance that you want and the time that you have.\n",
    "- Each epoch will take just a few seconds if you're using the TPU."
   ]
  },
  {
   "cell_type": "code",
   "execution_count": 12,
   "id": "3360dd59",
   "metadata": {},
   "outputs": [
    {
     "name": "stdout",
     "output_type": "stream",
     "text": [
      "Epoch 1/20\n",
      "937/937 [==============================] - 185s 196ms/step - loss: 0.9937 - classification_loss: 0.9800 - bounding_box_loss: 0.0137 - classification_accuracy: 0.6530 - bounding_box_mse: 0.0137 - val_loss: 0.3253 - val_classification_loss: 0.3174 - val_bounding_box_loss: 0.0078 - val_classification_accuracy: 0.9010 - val_bounding_box_mse: 0.0078\n",
      "Epoch 2/20\n",
      "937/937 [==============================] - 172s 184ms/step - loss: 0.2657 - classification_loss: 0.2602 - bounding_box_loss: 0.0055 - classification_accuracy: 0.9209 - bounding_box_mse: 0.0055 - val_loss: 0.2314 - val_classification_loss: 0.2263 - val_bounding_box_loss: 0.0052 - val_classification_accuracy: 0.9284 - val_bounding_box_mse: 0.0052\n",
      "Epoch 3/20\n",
      "937/937 [==============================] - 183s 195ms/step - loss: 0.1954 - classification_loss: 0.1920 - bounding_box_loss: 0.0034 - classification_accuracy: 0.9413 - bounding_box_mse: 0.0034 - val_loss: 0.1351 - val_classification_loss: 0.1313 - val_bounding_box_loss: 0.0039 - val_classification_accuracy: 0.9607 - val_bounding_box_mse: 0.0039_accuracy: 0.9403 -  - ETA: 43s - loss: 0.1989 - classification_loss: 0.1954 - bounding_box_loss: 0.0035 - classification_accura - ETA: 36s - loss: 0.1982 - classification_loss: 0.1947 - bounding_box_loss: 0.0035 - classification_accurac - ETA: 30s - loss: 0.1992 - classification_loss: 0.1957 - bounding_box_loss: 0.0035 - classification_accuracy:  - ETA: 24s - loss: 0.1991 - classification_loss: 0.1957 - bounding_box_loss: 0.0035 - classification_accuracy: 0.9 - ETA: 18s - loss: 0.1975 - classification_loss: 0.1941 - bounding_box_loss: 0.0034 - classification_accuracy: 0.9408 - bounding_box - ETA: 16s - loss: 0.1970 - classification_loss: 0.1936 - bounding_box_loss: 0.0034 - classification_accuracy: 0.9409 - - ETA: 12s - loss: 0.1970 - classification_loss: 0.1936 - bounding_box_loss: 0.0034 - classification_accuracy: 0.9409 - bounding_box_mse: 0.00 - ETA: 11s - loss: 0.1969 - classification_loss: 0.1935 - bounding_box_loss: 0.0034 - classification_ - ETA: 6s - loss: 0.1967 - classification_loss: 0.1932 - bounding\n",
      "Epoch 4/20\n",
      "937/937 [==============================] - 186s 198ms/step - loss: 0.1650 - classification_loss: 0.1624 - bounding_box_loss: 0.0026 - classification_accuracy: 0.9501 - bounding_box_mse: 0.0026 - val_loss: 0.1276 - val_classification_loss: 0.1256 - val_bounding_box_loss: 0.0020 - val_classification_accuracy: 0.9591 - val_bounding_box_mse: 0.0020 loss: 0.1673 - classification_loss: 0.1646 - bounding_box_loss: 0.0027 - classification_accuracy: 0.94 - ETA: 17s - loss: 0.1660 - classification_loss: 0.1634 - bounding_box_loss: 0.0027 - classification_accuracy: 0.9498 - bounding_b - ETA: 14s \n",
      "Epoch 5/20\n",
      "937/937 [==============================] - 177s 189ms/step - loss: 0.1407 - classification_loss: 0.1388 - bounding_box_loss: 0.0019 - classification_accuracy: 0.9571 - bounding_box_mse: 0.0019 - val_loss: 0.1088 - val_classification_loss: 0.1071 - val_bounding_box_loss: 0.0017 - val_classification_accuracy: 0.9675 - val_bounding_box_mse: 0.0017 ETA: 55s - loss: 0.1424 - classification_loss: 0.1405 - bounding_box_loss: 0.0019 - classification_accuracy: 0.9565 - bounding_box_mse: 0.0 - ETA: 54s - loss: 0.1424 - classification_loss: 0.1405 - bounding_box_loss: 0.0019 - classification_accuracy: 0.9565 - bounding_box_ms - ETA: 53s - loss: 0.1422 - classification_loss: 0.1403 - bounding_box_loss: 0.0019 \n",
      "Epoch 6/20\n",
      "937/937 [==============================] - 141s 150ms/step - loss: 0.1245 - classification_loss: 0.1229 - bounding_box_loss: 0.0016 - classification_accuracy: 0.9623 - bounding_box_mse: 0.0016 - val_loss: 0.0888 - val_classification_loss: 0.0874 - val_bounding_box_loss: 0.0014 - val_classification_accuracy: 0.9735 - val_bounding_box_mse: 0.0014\n",
      "Epoch 7/20\n",
      "937/937 [==============================] - 141s 151ms/step - loss: 0.1081 - classification_loss: 0.1067 - bounding_box_loss: 0.0014 - classification_accuracy: 0.9674 - bounding_box_mse: 0.0014 - val_loss: 0.0992 - val_classification_loss: 0.0980 - val_bounding_box_loss: 0.0012 - val_classification_accuracy: 0.9725 - val_bounding_box_mse: 0.0012\n",
      "Epoch 8/20\n",
      "937/937 [==============================] - 160s 170ms/step - loss: 0.0990 - classification_loss: 0.0978 - bounding_box_loss: 0.0012 - classification_accuracy: 0.9700 - bounding_box_mse: 0.0012 - val_loss: 0.0971 - val_classification_loss: 0.0959 - val_bounding_box_loss: 0.0012 - val_classification_accuracy: 0.9694 - val_bounding_box_mse: 0.0012\n",
      "Epoch 9/20\n",
      "937/937 [==============================] - 187s 199ms/step - loss: 0.0932 - classification_loss: 0.0921 - bounding_box_loss: 0.0011 - classification_accuracy: 0.9713 - bounding_box_mse: 0.0011 - val_loss: 0.0660 - val_classification_loss: 0.0646 - val_bounding_box_loss: 0.0014 - val_classification_accuracy: 0.9797 - val_bounding_box_mse: 0.0014\n",
      "Epoch 10/20\n",
      "937/937 [==============================] - 188s 200ms/step - loss: 0.0835 - classification_loss: 0.0824 - bounding_box_loss: 0.0011 - classification_accuracy: 0.9749 - bounding_box_mse: 0.0011 - val_loss: 0.0701 - val_classification_loss: 0.0690 - val_bounding_box_loss: 0.0011 - val_classification_accuracy: 0.9766 - val_bounding_box_mse: 0.0011\n",
      "Epoch 11/20\n",
      "937/937 [==============================] - 186s 198ms/step - loss: 0.0765 - classification_loss: 0.0754 - bounding_box_loss: 0.0010 - classification_accuracy: 0.9768 - bounding_box_mse: 0.0010 - val_loss: 0.0560 - val_classification_loss: 0.0544 - val_bounding_box_loss: 0.0016 - val_classification_accuracy: 0.9827 - val_bounding_box_mse: 0.0016acy: 0.9768 - bounding_box - ETA: 2s - loss: 0.0764 - classification_loss: 0.0754 - bounding_box_loss: 0.0010 - classification_accuracy: 0.976\n",
      "Epoch 12/20\n",
      "937/937 [==============================] - 185s 198ms/step - loss: 0.0728 - classification_loss: 0.0718 - bounding_box_loss: 9.9537e-04 - classification_accuracy: 0.9777 - bounding_box_mse: 9.9537e-04 - val_loss: 0.0568 - val_classification_loss: 0.0558 - val_bounding_box_loss: 9.8821e-04 - val_classification_accuracy: 0.9808 - val_bounding_box_mse: 9.8821e-04\n",
      "Epoch 13/20\n",
      "937/937 [==============================] - 187s 199ms/step - loss: 0.0689 - classification_loss: 0.0679 - bounding_box_loss: 0.0010 - classification_accuracy: 0.9788 - bounding_box_mse: 0.0010 - val_loss: 0.0858 - val_classification_loss: 0.0846 - val_bounding_box_loss: 0.0013 - val_classification_accuracy: 0.9733 - val_bounding_box_mse: 0.0013686\n",
      "Epoch 14/20\n",
      "937/937 [==============================] - 185s 198ms/step - loss: 0.0651 - classification_loss: 0.0641 - bounding_box_loss: 0.0010 - classification_accuracy: 0.9802 - bounding_box_mse: 0.0010 - val_loss: 0.0535 - val_classification_loss: 0.0526 - val_bounding_box_loss: 9.1464e-04 - val_classification_accuracy: 0.9832 - val_bounding_box_mse: 9.1464e-04\n",
      "Epoch 15/20\n",
      "937/937 [==============================] - 186s 199ms/step - loss: 0.0614 - classification_loss: 0.0604 - bounding_box_loss: 9.9796e-04 - classification_accuracy: 0.9811 - bounding_box_mse: 9.9796e-04 - val_loss: 0.0523 - val_classification_loss: 0.0513 - val_bounding_box_loss: 9.8904e-04 - val_classification_accuracy: 0.9819 - val_bounding_box_mse: 9.8904e-04\n",
      "Epoch 16/20\n"
     ]
    },
    {
     "name": "stdout",
     "output_type": "stream",
     "text": [
      "937/937 [==============================] - 185s 198ms/step - loss: 0.0594 - classification_loss: 0.0584 - bounding_box_loss: 9.8325e-04 - classification_accuracy: 0.9816 - bounding_box_mse: 9.8325e-04 - val_loss: 0.0524 - val_classification_loss: 0.0514 - val_bounding_box_loss: 9.9922e-04 - val_classification_accuracy: 0.9833 - val_bounding_box_mse: 9.9922e-040.0596 - classification_loss: 0.0586 - bounding_box_l - ETA: 40s - loss: 0.0595 - classification_loss: 0.0585 - bounding_box_loss: 9.7453e-04 - classification_accuracy: 0.9816 - bounding_box_mse: 9.74 - ETA: 39s - loss: 0.0595 - classification_loss: 0.0585 - bounding_box_loss: 9.7439e-04 - classification_accuracy: 0.9816 - bo - ETA: 34s - loss: 0.0595 - classification_loss: 0.0585 - bounding_box_loss: 9.7560e-04 - classification_accuracy: 0.9816 - bounding_box_mse: - ETA: 32s - loss: 0.0599 - classification_loss: 0.0589 - bounding_box_loss: 9.7798e-04 - classification_accuracy: 0.9814 - bounding_box_mse: 9 - ETA: 30s - loss: 0.0599 - classification_loss: 0.0589 - bounding_box_loss: 9.7864e-04 - classification_accuracy:  - ETA: 2s - loss: 0.0594 - classification_loss: 0.0584 - bounding_box_loss: 9.8400e-04 - classification_accuracy: 0.9816 \n",
      "Epoch 17/20\n",
      "937/937 [==============================] - 183s 196ms/step - loss: 0.0559 - classification_loss: 0.0549 - bounding_box_loss: 9.9719e-04 - classification_accuracy: 0.9828 - bounding_box_mse: 9.9719e-04 - val_loss: 0.0647 - val_classification_loss: 0.0638 - val_bounding_box_loss: 9.7341e-04 - val_classification_accuracy: 0.9811 - val_bounding_box_mse: 9.7341e-04\n",
      "Epoch 18/20\n",
      "937/937 [==============================] - 186s 198ms/step - loss: 0.0525 - classification_loss: 0.0515 - bounding_box_loss: 9.8368e-04 - classification_accuracy: 0.9837 - bounding_box_mse: 9.8368e-04 - val_loss: 0.0601 - val_classification_loss: 0.0588 - val_bounding_box_loss: 0.0013 - val_classification_accuracy: 0.9809 - val_bounding_box_mse: 0.0013\n",
      "Epoch 19/20\n",
      "937/937 [==============================] - 185s 197ms/step - loss: 0.0508 - classification_loss: 0.0498 - bounding_box_loss: 9.7755e-04 - classification_accuracy: 0.9843 - bounding_box_mse: 9.7755e-04 - val_loss: 0.0395 - val_classification_loss: 0.0385 - val_bounding_box_loss: 0.0010 - val_classification_accuracy: 0.9883 - val_bounding_box_mse: 0.0010\n",
      "Epoch 20/20\n",
      "937/937 [==============================] - 183s 195ms/step - loss: 0.0485 - classification_loss: 0.0475 - bounding_box_loss: 9.3952e-04 - classification_accuracy: 0.9857 - bounding_box_mse: 9.3952e-04 - val_loss: 0.0465 - val_classification_loss: 0.0456 - val_bounding_box_loss: 9.3868e-04 - val_classification_accuracy: 0.9867 - val_bounding_box_mse: 9.3868e-04\n",
      "1/1 [==============================] - 11s 11s/step - loss: 0.0454 - classification_loss: 0.0444 - bounding_box_loss: 9.4782e-04 - classification_accuracy: 0.9858 - bounding_box_mse: 9.4782e-04\n",
      "Validation accuracy:  0.98580002784729\n"
     ]
    }
   ],
   "source": [
    "EPOCHS = 20 # 45\n",
    "steps_per_epoch = 60000//BATCH_SIZE  # 60,000 items in this dataset\n",
    "validation_steps = 1\n",
    "\n",
    "history = model.fit(training_dataset,\n",
    "                    steps_per_epoch=steps_per_epoch, validation_data=validation_dataset, validation_steps=validation_steps, epochs=EPOCHS)\n",
    "\n",
    "loss, classification_loss, bounding_box_loss, classification_accuracy, bounding_box_mse = model.evaluate(validation_dataset, steps=1)\n",
    "print(\"Validation accuracy: \", classification_accuracy)"
   ]
  },
  {
   "cell_type": "code",
   "execution_count": 13,
   "id": "50030929",
   "metadata": {},
   "outputs": [
    {
     "data": {
      "image/png": "[encoded data removed]",
      "text/plain": [
       "<Figure size 432x288 with 1 Axes>"
      ]
     },
     "metadata": {},
     "output_type": "display_data"
    }
   ],
   "source": [
    "plot_metrics(\"classification_loss\", \"Classification Loss\")\n",
    "plot_metrics(\"bounding_box_loss\", \"Bounding Box Loss\")"
   ]
  },
  {
   "cell_type": "markdown",
   "id": "54d45d7c",
   "metadata": {},
   "source": [
    "## Intersection over union\n",
    "\n",
    "Calculate the I-O-U metric to evaluate the model's performance."
   ]
  },
  {
   "cell_type": "code",
   "execution_count": 14,
   "id": "69a9d22d",
   "metadata": {},
   "outputs": [],
   "source": [
    "def intersection_over_union(pred_box, true_box):\n",
    "    xmin_pred, ymin_pred, xmax_pred, ymax_pred =  np.split(pred_box, 4, axis = 1)\n",
    "    xmin_true, ymin_true, xmax_true, ymax_true = np.split(true_box, 4, axis = 1)\n",
    "\n",
    "    smoothing_factor = 1e-10\n",
    "\n",
    "    xmin_overlap = np.maximum(xmin_pred, xmin_true)\n",
    "    xmax_overlap = np.minimum(xmax_pred, xmax_true)\n",
    "    ymin_overlap = np.maximum(ymin_pred, ymin_true)\n",
    "    ymax_overlap = np.minimum(ymax_pred, ymax_true)\n",
    "\n",
    "    pred_box_area = (xmax_pred - xmin_pred) * (ymax_pred - ymin_pred)\n",
    "    true_box_area = (xmax_true - xmin_true) * (ymax_true - ymin_true)\n",
    "\n",
    "    overlap_area = np.maximum((xmax_overlap - xmin_overlap), 0)  * np.maximum((ymax_overlap - ymin_overlap), 0)\n",
    "    union_area = (pred_box_area + true_box_area) - overlap_area\n",
    "    \n",
    "    iou = (overlap_area + smoothing_factor) / (union_area + smoothing_factor)\n",
    "\n",
    "    return iou"
   ]
  },
  {
   "cell_type": "markdown",
   "id": "3251c25f",
   "metadata": {},
   "source": [
    "### Visualize predictions\n",
    "The following code will make predictions and visualize both the classification and the predicted bounding boxes.\n",
    "- The true bounding box labels will be in green, and the model's predicted bounding boxes are in red.\n",
    "- The predicted number is shown below the image."
   ]
  },
  {
   "cell_type": "code",
   "execution_count": 15,
   "id": "10a3d6ec",
   "metadata": {},
   "outputs": [
    {
     "name": "stdout",
     "output_type": "stream",
     "text": [
      "Number of predictions where iou > threshold(0.6): 9406\n",
      "Number of predictions where iou < threshold(0.6): 594\n"
     ]
    },
    {
     "data": {
      "image/png": "[encoded data removed]",
      "text/plain": [
       "<Figure size 1440x288 with 11 Axes>"
      ]
     },
     "metadata": {},
     "output_type": "display_data"
    }
   ],
   "source": [
    "# recognize validation digits\n",
    "predictions = model.predict(validation_digits, batch_size=64)\n",
    "predicted_labels = np.argmax(predictions[0], axis=1)\n",
    "\n",
    "predicted_bboxes = predictions[1]\n",
    "\n",
    "iou = intersection_over_union(predicted_bboxes, validation_bboxes)\n",
    "\n",
    "iou_threshold = 0.6\n",
    "\n",
    "print(\"Number of predictions where iou > threshold(%s): %s\" % (iou_threshold, (iou >= iou_threshold).sum()))\n",
    "print(\"Number of predictions where iou < threshold(%s): %s\" % (iou_threshold, (iou < iou_threshold).sum()))\n",
    "\n",
    "\n",
    "display_digits_with_boxes(validation_digits, predicted_labels, validation_labels, predicted_bboxes, validation_bboxes, iou, \"True and Predicted values\")\n"
   ]
  }
 ],
 "metadata": {
  "kernelspec": {
   "display_name": "Python 3 (ipykernel)",
   "language": "python",
   "name": "python3"
  },
  "language_info": {
   "codemirror_mode": {
    "name": "ipython",
    "version": 3
   },
   "file_extension": ".py",
   "mimetype": "text/x-python",
   "name": "python",
   "nbconvert_exporter": "python",
   "pygments_lexer": "ipython3",
   "version": "3.9.6"
  }
 },
 "nbformat": 4,
 "nbformat_minor": 5
}
